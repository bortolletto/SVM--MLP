{
  "nbformat": 4,
  "nbformat_minor": 0,
  "metadata": {
    "colab": {
      "provenance": []
    },
    "kernelspec": {
      "name": "python3",
      "display_name": "Python 3"
    },
    "language_info": {
      "name": "python"
    }
  },
  "cells": [
    {
      "cell_type": "markdown",
      "source": [
        "Nome: Felipe Bortolletto\n",
        "\n",
        "Professor: Prof. Anderson Ara\n",
        "\n",
        "Disciplina: TEORIA DO APRENDIZADO ESTAT ́ISTICO\n",
        "\n",
        "Data: 26 de abril de 2024\n",
        "\n",
        "Aplicação da metodologia de rede neural com a biblioteca pytorch para os dados RICE\n",
        "\n"
      ],
      "metadata": {
        "id": "pd2Ackmmjirm"
      }
    },
    {
      "cell_type": "code",
      "source": [
        "!pip install ucimlrepo"
      ],
      "metadata": {
        "colab": {
          "base_uri": "https://localhost:8080/"
        },
        "id": "WhArwQ5-jhhH",
        "outputId": "bd783d12-a5b0-417d-fdd7-21695ba066aa"
      },
      "execution_count": 1,
      "outputs": [
        {
          "output_type": "stream",
          "name": "stdout",
          "text": [
            "Collecting ucimlrepo\n",
            "  Downloading ucimlrepo-0.0.7-py3-none-any.whl (8.0 kB)\n",
            "Requirement already satisfied: pandas>=1.0.0 in /usr/local/lib/python3.10/dist-packages (from ucimlrepo) (2.0.3)\n",
            "Requirement already satisfied: certifi>=2020.12.5 in /usr/local/lib/python3.10/dist-packages (from ucimlrepo) (2024.6.2)\n",
            "Requirement already satisfied: python-dateutil>=2.8.2 in /usr/local/lib/python3.10/dist-packages (from pandas>=1.0.0->ucimlrepo) (2.8.2)\n",
            "Requirement already satisfied: pytz>=2020.1 in /usr/local/lib/python3.10/dist-packages (from pandas>=1.0.0->ucimlrepo) (2023.4)\n",
            "Requirement already satisfied: tzdata>=2022.1 in /usr/local/lib/python3.10/dist-packages (from pandas>=1.0.0->ucimlrepo) (2024.1)\n",
            "Requirement already satisfied: numpy>=1.21.0 in /usr/local/lib/python3.10/dist-packages (from pandas>=1.0.0->ucimlrepo) (1.25.2)\n",
            "Requirement already satisfied: six>=1.5 in /usr/local/lib/python3.10/dist-packages (from python-dateutil>=2.8.2->pandas>=1.0.0->ucimlrepo) (1.16.0)\n",
            "Installing collected packages: ucimlrepo\n",
            "Successfully installed ucimlrepo-0.0.7\n"
          ]
        }
      ]
    },
    {
      "cell_type": "code",
      "execution_count": 2,
      "metadata": {
        "colab": {
          "base_uri": "https://localhost:8080/"
        },
        "id": "cy6a9VWbjamB",
        "outputId": "9b4734b8-3770-42c3-da74-c3a716c1e43a"
      },
      "outputs": [
        {
          "output_type": "execute_result",
          "data": {
            "text/plain": [
              "((3810, 7), (3810, 1))"
            ]
          },
          "metadata": {},
          "execution_count": 2
        }
      ],
      "source": [
        "from ucimlrepo import fetch_ucirepo\n",
        "\n",
        "# fetch dataset\n",
        "rice_cammeo_and_osmancik = fetch_ucirepo(id=545)\n",
        "\n",
        "# data (as pandas dataframes)\n",
        "X = rice_cammeo_and_osmancik.data.features\n",
        "y = rice_cammeo_and_osmancik.data.targets\n",
        "\n",
        "X.shape,y.shape\n"
      ]
    },
    {
      "cell_type": "code",
      "source": [
        "y['Class'].replace({'Cammeo': 0, 'Osmancik': 1},inplace = True)\n",
        "y"
      ],
      "metadata": {
        "colab": {
          "base_uri": "https://localhost:8080/",
          "height": 510
        },
        "id": "FO5nehuRnKtm",
        "outputId": "0d787aea-b2fb-4d16-f196-e0517040b9fc"
      },
      "execution_count": 3,
      "outputs": [
        {
          "output_type": "stream",
          "name": "stderr",
          "text": [
            "<ipython-input-3-ee9f0d4414e2>:1: SettingWithCopyWarning: \n",
            "A value is trying to be set on a copy of a slice from a DataFrame\n",
            "\n",
            "See the caveats in the documentation: https://pandas.pydata.org/pandas-docs/stable/user_guide/indexing.html#returning-a-view-versus-a-copy\n",
            "  y['Class'].replace({'Cammeo': 0, 'Osmancik': 1},inplace = True)\n"
          ]
        },
        {
          "output_type": "execute_result",
          "data": {
            "text/plain": [
              "      Class\n",
              "0         0\n",
              "1         0\n",
              "2         0\n",
              "3         0\n",
              "4         0\n",
              "...     ...\n",
              "3805      1\n",
              "3806      1\n",
              "3807      1\n",
              "3808      1\n",
              "3809      1\n",
              "\n",
              "[3810 rows x 1 columns]"
            ],
            "text/html": [
              "\n",
              "  <div id=\"df-51c3fca1-859a-4feb-890b-3f53b395e491\" class=\"colab-df-container\">\n",
              "    <div>\n",
              "<style scoped>\n",
              "    .dataframe tbody tr th:only-of-type {\n",
              "        vertical-align: middle;\n",
              "    }\n",
              "\n",
              "    .dataframe tbody tr th {\n",
              "        vertical-align: top;\n",
              "    }\n",
              "\n",
              "    .dataframe thead th {\n",
              "        text-align: right;\n",
              "    }\n",
              "</style>\n",
              "<table border=\"1\" class=\"dataframe\">\n",
              "  <thead>\n",
              "    <tr style=\"text-align: right;\">\n",
              "      <th></th>\n",
              "      <th>Class</th>\n",
              "    </tr>\n",
              "  </thead>\n",
              "  <tbody>\n",
              "    <tr>\n",
              "      <th>0</th>\n",
              "      <td>0</td>\n",
              "    </tr>\n",
              "    <tr>\n",
              "      <th>1</th>\n",
              "      <td>0</td>\n",
              "    </tr>\n",
              "    <tr>\n",
              "      <th>2</th>\n",
              "      <td>0</td>\n",
              "    </tr>\n",
              "    <tr>\n",
              "      <th>3</th>\n",
              "      <td>0</td>\n",
              "    </tr>\n",
              "    <tr>\n",
              "      <th>4</th>\n",
              "      <td>0</td>\n",
              "    </tr>\n",
              "    <tr>\n",
              "      <th>...</th>\n",
              "      <td>...</td>\n",
              "    </tr>\n",
              "    <tr>\n",
              "      <th>3805</th>\n",
              "      <td>1</td>\n",
              "    </tr>\n",
              "    <tr>\n",
              "      <th>3806</th>\n",
              "      <td>1</td>\n",
              "    </tr>\n",
              "    <tr>\n",
              "      <th>3807</th>\n",
              "      <td>1</td>\n",
              "    </tr>\n",
              "    <tr>\n",
              "      <th>3808</th>\n",
              "      <td>1</td>\n",
              "    </tr>\n",
              "    <tr>\n",
              "      <th>3809</th>\n",
              "      <td>1</td>\n",
              "    </tr>\n",
              "  </tbody>\n",
              "</table>\n",
              "<p>3810 rows × 1 columns</p>\n",
              "</div>\n",
              "    <div class=\"colab-df-buttons\">\n",
              "\n",
              "  <div class=\"colab-df-container\">\n",
              "    <button class=\"colab-df-convert\" onclick=\"convertToInteractive('df-51c3fca1-859a-4feb-890b-3f53b395e491')\"\n",
              "            title=\"Convert this dataframe to an interactive table.\"\n",
              "            style=\"display:none;\">\n",
              "\n",
              "  <svg xmlns=\"http://www.w3.org/2000/svg\" height=\"24px\" viewBox=\"0 -960 960 960\">\n",
              "    <path d=\"M120-120v-720h720v720H120Zm60-500h600v-160H180v160Zm220 220h160v-160H400v160Zm0 220h160v-160H400v160ZM180-400h160v-160H180v160Zm440 0h160v-160H620v160ZM180-180h160v-160H180v160Zm440 0h160v-160H620v160Z\"/>\n",
              "  </svg>\n",
              "    </button>\n",
              "\n",
              "  <style>\n",
              "    .colab-df-container {\n",
              "      display:flex;\n",
              "      gap: 12px;\n",
              "    }\n",
              "\n",
              "    .colab-df-convert {\n",
              "      background-color: #E8F0FE;\n",
              "      border: none;\n",
              "      border-radius: 50%;\n",
              "      cursor: pointer;\n",
              "      display: none;\n",
              "      fill: #1967D2;\n",
              "      height: 32px;\n",
              "      padding: 0 0 0 0;\n",
              "      width: 32px;\n",
              "    }\n",
              "\n",
              "    .colab-df-convert:hover {\n",
              "      background-color: #E2EBFA;\n",
              "      box-shadow: 0px 1px 2px rgba(60, 64, 67, 0.3), 0px 1px 3px 1px rgba(60, 64, 67, 0.15);\n",
              "      fill: #174EA6;\n",
              "    }\n",
              "\n",
              "    .colab-df-buttons div {\n",
              "      margin-bottom: 4px;\n",
              "    }\n",
              "\n",
              "    [theme=dark] .colab-df-convert {\n",
              "      background-color: #3B4455;\n",
              "      fill: #D2E3FC;\n",
              "    }\n",
              "\n",
              "    [theme=dark] .colab-df-convert:hover {\n",
              "      background-color: #434B5C;\n",
              "      box-shadow: 0px 1px 3px 1px rgba(0, 0, 0, 0.15);\n",
              "      filter: drop-shadow(0px 1px 2px rgba(0, 0, 0, 0.3));\n",
              "      fill: #FFFFFF;\n",
              "    }\n",
              "  </style>\n",
              "\n",
              "    <script>\n",
              "      const buttonEl =\n",
              "        document.querySelector('#df-51c3fca1-859a-4feb-890b-3f53b395e491 button.colab-df-convert');\n",
              "      buttonEl.style.display =\n",
              "        google.colab.kernel.accessAllowed ? 'block' : 'none';\n",
              "\n",
              "      async function convertToInteractive(key) {\n",
              "        const element = document.querySelector('#df-51c3fca1-859a-4feb-890b-3f53b395e491');\n",
              "        const dataTable =\n",
              "          await google.colab.kernel.invokeFunction('convertToInteractive',\n",
              "                                                    [key], {});\n",
              "        if (!dataTable) return;\n",
              "\n",
              "        const docLinkHtml = 'Like what you see? Visit the ' +\n",
              "          '<a target=\"_blank\" href=https://colab.research.google.com/notebooks/data_table.ipynb>data table notebook</a>'\n",
              "          + ' to learn more about interactive tables.';\n",
              "        element.innerHTML = '';\n",
              "        dataTable['output_type'] = 'display_data';\n",
              "        await google.colab.output.renderOutput(dataTable, element);\n",
              "        const docLink = document.createElement('div');\n",
              "        docLink.innerHTML = docLinkHtml;\n",
              "        element.appendChild(docLink);\n",
              "      }\n",
              "    </script>\n",
              "  </div>\n",
              "\n",
              "\n",
              "<div id=\"df-48592d3b-fb24-40db-af96-49353374f512\">\n",
              "  <button class=\"colab-df-quickchart\" onclick=\"quickchart('df-48592d3b-fb24-40db-af96-49353374f512')\"\n",
              "            title=\"Suggest charts\"\n",
              "            style=\"display:none;\">\n",
              "\n",
              "<svg xmlns=\"http://www.w3.org/2000/svg\" height=\"24px\"viewBox=\"0 0 24 24\"\n",
              "     width=\"24px\">\n",
              "    <g>\n",
              "        <path d=\"M19 3H5c-1.1 0-2 .9-2 2v14c0 1.1.9 2 2 2h14c1.1 0 2-.9 2-2V5c0-1.1-.9-2-2-2zM9 17H7v-7h2v7zm4 0h-2V7h2v10zm4 0h-2v-4h2v4z\"/>\n",
              "    </g>\n",
              "</svg>\n",
              "  </button>\n",
              "\n",
              "<style>\n",
              "  .colab-df-quickchart {\n",
              "      --bg-color: #E8F0FE;\n",
              "      --fill-color: #1967D2;\n",
              "      --hover-bg-color: #E2EBFA;\n",
              "      --hover-fill-color: #174EA6;\n",
              "      --disabled-fill-color: #AAA;\n",
              "      --disabled-bg-color: #DDD;\n",
              "  }\n",
              "\n",
              "  [theme=dark] .colab-df-quickchart {\n",
              "      --bg-color: #3B4455;\n",
              "      --fill-color: #D2E3FC;\n",
              "      --hover-bg-color: #434B5C;\n",
              "      --hover-fill-color: #FFFFFF;\n",
              "      --disabled-bg-color: #3B4455;\n",
              "      --disabled-fill-color: #666;\n",
              "  }\n",
              "\n",
              "  .colab-df-quickchart {\n",
              "    background-color: var(--bg-color);\n",
              "    border: none;\n",
              "    border-radius: 50%;\n",
              "    cursor: pointer;\n",
              "    display: none;\n",
              "    fill: var(--fill-color);\n",
              "    height: 32px;\n",
              "    padding: 0;\n",
              "    width: 32px;\n",
              "  }\n",
              "\n",
              "  .colab-df-quickchart:hover {\n",
              "    background-color: var(--hover-bg-color);\n",
              "    box-shadow: 0 1px 2px rgba(60, 64, 67, 0.3), 0 1px 3px 1px rgba(60, 64, 67, 0.15);\n",
              "    fill: var(--button-hover-fill-color);\n",
              "  }\n",
              "\n",
              "  .colab-df-quickchart-complete:disabled,\n",
              "  .colab-df-quickchart-complete:disabled:hover {\n",
              "    background-color: var(--disabled-bg-color);\n",
              "    fill: var(--disabled-fill-color);\n",
              "    box-shadow: none;\n",
              "  }\n",
              "\n",
              "  .colab-df-spinner {\n",
              "    border: 2px solid var(--fill-color);\n",
              "    border-color: transparent;\n",
              "    border-bottom-color: var(--fill-color);\n",
              "    animation:\n",
              "      spin 1s steps(1) infinite;\n",
              "  }\n",
              "\n",
              "  @keyframes spin {\n",
              "    0% {\n",
              "      border-color: transparent;\n",
              "      border-bottom-color: var(--fill-color);\n",
              "      border-left-color: var(--fill-color);\n",
              "    }\n",
              "    20% {\n",
              "      border-color: transparent;\n",
              "      border-left-color: var(--fill-color);\n",
              "      border-top-color: var(--fill-color);\n",
              "    }\n",
              "    30% {\n",
              "      border-color: transparent;\n",
              "      border-left-color: var(--fill-color);\n",
              "      border-top-color: var(--fill-color);\n",
              "      border-right-color: var(--fill-color);\n",
              "    }\n",
              "    40% {\n",
              "      border-color: transparent;\n",
              "      border-right-color: var(--fill-color);\n",
              "      border-top-color: var(--fill-color);\n",
              "    }\n",
              "    60% {\n",
              "      border-color: transparent;\n",
              "      border-right-color: var(--fill-color);\n",
              "    }\n",
              "    80% {\n",
              "      border-color: transparent;\n",
              "      border-right-color: var(--fill-color);\n",
              "      border-bottom-color: var(--fill-color);\n",
              "    }\n",
              "    90% {\n",
              "      border-color: transparent;\n",
              "      border-bottom-color: var(--fill-color);\n",
              "    }\n",
              "  }\n",
              "</style>\n",
              "\n",
              "  <script>\n",
              "    async function quickchart(key) {\n",
              "      const quickchartButtonEl =\n",
              "        document.querySelector('#' + key + ' button');\n",
              "      quickchartButtonEl.disabled = true;  // To prevent multiple clicks.\n",
              "      quickchartButtonEl.classList.add('colab-df-spinner');\n",
              "      try {\n",
              "        const charts = await google.colab.kernel.invokeFunction(\n",
              "            'suggestCharts', [key], {});\n",
              "      } catch (error) {\n",
              "        console.error('Error during call to suggestCharts:', error);\n",
              "      }\n",
              "      quickchartButtonEl.classList.remove('colab-df-spinner');\n",
              "      quickchartButtonEl.classList.add('colab-df-quickchart-complete');\n",
              "    }\n",
              "    (() => {\n",
              "      let quickchartButtonEl =\n",
              "        document.querySelector('#df-48592d3b-fb24-40db-af96-49353374f512 button');\n",
              "      quickchartButtonEl.style.display =\n",
              "        google.colab.kernel.accessAllowed ? 'block' : 'none';\n",
              "    })();\n",
              "  </script>\n",
              "</div>\n",
              "\n",
              "  <div id=\"id_dce73d76-aea8-4857-bf39-9fbf22a03d06\">\n",
              "    <style>\n",
              "      .colab-df-generate {\n",
              "        background-color: #E8F0FE;\n",
              "        border: none;\n",
              "        border-radius: 50%;\n",
              "        cursor: pointer;\n",
              "        display: none;\n",
              "        fill: #1967D2;\n",
              "        height: 32px;\n",
              "        padding: 0 0 0 0;\n",
              "        width: 32px;\n",
              "      }\n",
              "\n",
              "      .colab-df-generate:hover {\n",
              "        background-color: #E2EBFA;\n",
              "        box-shadow: 0px 1px 2px rgba(60, 64, 67, 0.3), 0px 1px 3px 1px rgba(60, 64, 67, 0.15);\n",
              "        fill: #174EA6;\n",
              "      }\n",
              "\n",
              "      [theme=dark] .colab-df-generate {\n",
              "        background-color: #3B4455;\n",
              "        fill: #D2E3FC;\n",
              "      }\n",
              "\n",
              "      [theme=dark] .colab-df-generate:hover {\n",
              "        background-color: #434B5C;\n",
              "        box-shadow: 0px 1px 3px 1px rgba(0, 0, 0, 0.15);\n",
              "        filter: drop-shadow(0px 1px 2px rgba(0, 0, 0, 0.3));\n",
              "        fill: #FFFFFF;\n",
              "      }\n",
              "    </style>\n",
              "    <button class=\"colab-df-generate\" onclick=\"generateWithVariable('y')\"\n",
              "            title=\"Generate code using this dataframe.\"\n",
              "            style=\"display:none;\">\n",
              "\n",
              "  <svg xmlns=\"http://www.w3.org/2000/svg\" height=\"24px\"viewBox=\"0 0 24 24\"\n",
              "       width=\"24px\">\n",
              "    <path d=\"M7,19H8.4L18.45,9,17,7.55,7,17.6ZM5,21V16.75L18.45,3.32a2,2,0,0,1,2.83,0l1.4,1.43a1.91,1.91,0,0,1,.58,1.4,1.91,1.91,0,0,1-.58,1.4L9.25,21ZM18.45,9,17,7.55Zm-12,3A5.31,5.31,0,0,0,4.9,8.1,5.31,5.31,0,0,0,1,6.5,5.31,5.31,0,0,0,4.9,4.9,5.31,5.31,0,0,0,6.5,1,5.31,5.31,0,0,0,8.1,4.9,5.31,5.31,0,0,0,12,6.5,5.46,5.46,0,0,0,6.5,12Z\"/>\n",
              "  </svg>\n",
              "    </button>\n",
              "    <script>\n",
              "      (() => {\n",
              "      const buttonEl =\n",
              "        document.querySelector('#id_dce73d76-aea8-4857-bf39-9fbf22a03d06 button.colab-df-generate');\n",
              "      buttonEl.style.display =\n",
              "        google.colab.kernel.accessAllowed ? 'block' : 'none';\n",
              "\n",
              "      buttonEl.onclick = () => {\n",
              "        google.colab.notebook.generateWithVariable('y');\n",
              "      }\n",
              "      })();\n",
              "    </script>\n",
              "  </div>\n",
              "\n",
              "    </div>\n",
              "  </div>\n"
            ],
            "application/vnd.google.colaboratory.intrinsic+json": {
              "type": "dataframe",
              "variable_name": "y",
              "summary": "{\n  \"name\": \"y\",\n  \"rows\": 3810,\n  \"fields\": [\n    {\n      \"column\": \"Class\",\n      \"properties\": {\n        \"dtype\": \"number\",\n        \"std\": 0,\n        \"min\": 0,\n        \"max\": 1,\n        \"num_unique_values\": 2,\n        \"samples\": [\n          1,\n          0\n        ],\n        \"semantic_type\": \"\",\n        \"description\": \"\"\n      }\n    }\n  ]\n}"
            }
          },
          "metadata": {},
          "execution_count": 3
        }
      ]
    },
    {
      "cell_type": "markdown",
      "source": [
        "No comando acima substituimos os nomes das classe, agora as classes se tornão  \n",
        "\n",
        "Cammeo: 0\n",
        "\n",
        "Osmancik: 1\n",
        "\n",
        "Alem disso abaixo iremos normalizar os dados"
      ],
      "metadata": {
        "id": "1vp2UjFon9Au"
      }
    },
    {
      "cell_type": "code",
      "source": [
        "from sklearn.model_selection import train_test_split\n",
        "\n",
        "from sklearn.preprocessing import StandardScaler\n",
        "scaler = StandardScaler()\n",
        "\n",
        "import pandas as pd\n",
        "import numpy as np\n",
        "\n",
        "import matplotlib.pyplot as plt\n",
        "\n",
        "\n",
        "X_train, X_test, y_train, y_test = train_test_split(X, y, test_size=0.2, random_state=42)\n",
        "\n",
        "X_train = scaler.fit_transform(X_train)\n",
        "X_test = scaler.transform(X_test)\n",
        "y_test = y_test.values.flatten()\n",
        "y_train = y_train.values.flatten()\n",
        "# print(X_train)\n",
        "X_train.shape,X_test.shape,y_train.shape,y_test.shape"
      ],
      "metadata": {
        "colab": {
          "base_uri": "https://localhost:8080/"
        },
        "id": "qMwYT-zDjgZj",
        "outputId": "84c2781b-efc0-4ff3-b29b-a8eed8190a67"
      },
      "execution_count": 4,
      "outputs": [
        {
          "output_type": "execute_result",
          "data": {
            "text/plain": [
              "((3048, 7), (762, 7), (3048,), (762,))"
            ]
          },
          "metadata": {},
          "execution_count": 4
        }
      ]
    },
    {
      "cell_type": "markdown",
      "source": [
        "Vamos criar nosso modelo de rede neural!"
      ],
      "metadata": {
        "id": "OzExCNtZonQ5"
      }
    },
    {
      "cell_type": "code",
      "source": [
        "import torch\n",
        "\n",
        "X_train = torch.from_numpy(X_train.astype(np.float32))\n",
        "y_train = torch.from_numpy(y_train.astype(np.float32))\n",
        "X_test = torch.from_numpy(X_test.astype(np.float32))\n",
        "y_test = torch.from_numpy(y_test.astype(np.float32))\n",
        "\n",
        "X_train.shape,X_test.shape,y_train.shape,y_test.shape"
      ],
      "metadata": {
        "id": "5q6gu4ZZ701-",
        "colab": {
          "base_uri": "https://localhost:8080/"
        },
        "outputId": "059fcc35-ec7b-41f4-f102-ce2f89e606e8"
      },
      "execution_count": 5,
      "outputs": [
        {
          "output_type": "execute_result",
          "data": {
            "text/plain": [
              "(torch.Size([3048, 7]),\n",
              " torch.Size([762, 7]),\n",
              " torch.Size([3048]),\n",
              " torch.Size([762]))"
            ]
          },
          "metadata": {},
          "execution_count": 5
        }
      ]
    },
    {
      "cell_type": "markdown",
      "source": [
        "### Criamos a baixo a classe de nosso modelo"
      ],
      "metadata": {
        "id": "KPN9KSGpsalR"
      }
    },
    {
      "cell_type": "code",
      "source": [
        "\n",
        "\n",
        "from torch import nn\n",
        "\n",
        "\n",
        "class MLPV0(nn.Module):\n",
        "  def __init__(self,\n",
        "               input_size = 7,\n",
        "            hiden_layers = 32,\n",
        "            output_size = 1):\n",
        "    super().__init__()\n",
        "    self.linear_RELU = nn.Sequential(\n",
        "                nn.Linear(input_size, hiden_layers),\n",
        "                nn.ReLU(),\n",
        "                nn.Linear(hiden_layers, hiden_layers),\n",
        "                nn.ReLU(),\n",
        "                nn.Linear(hiden_layers, output_size),\n",
        "                # nn.Sigmoid()\n",
        "            )\n",
        "\n",
        "  def forward(self,x):\n",
        "    # return torch.round(self.linear_RELU(x))\n",
        "    return self.linear_RELU(x)"
      ],
      "metadata": {
        "id": "CRCqikgfc_Cv"
      },
      "execution_count": 8,
      "outputs": []
    },
    {
      "cell_type": "markdown",
      "source": [
        "### E agora uma função para treino e outra para calcular a acc"
      ],
      "metadata": {
        "id": "nze-NYQhsgcw"
      }
    },
    {
      "cell_type": "code",
      "source": [
        "def accuracy_fn(y_true,y_pred):\n",
        "    correct = torch.eq(y_true,y_pred).sum().item() #torch.eq -> how many samples are equal\n",
        "    acc = (correct/len(y_pred)) * 100\n",
        "    return acc\n",
        "\n",
        "def train(model,\n",
        "          learning_rate,\n",
        "          X_train,\n",
        "          y_train,\n",
        "          x_test,\n",
        "          y_test,\n",
        "          epochs = 200):\n",
        "  # Loss and optimizer\n",
        "  criterion = nn.BCEWithLogitsLoss()\n",
        "  optimizer = torch.optim.SGD(model.parameters(),\n",
        "                              lr=learning_rate)\n",
        "\n",
        "  train_losses = np.zeros(epochs)\n",
        "  test_losses = np.zeros(epochs)\n",
        "\n",
        "  for epoch in range(epochs):\n",
        "    model.train()\n",
        "    y_logits = model(X_train).squeeze()\n",
        "    y_pred = torch.round(torch.sigmoid(y_logits))\n",
        "\n",
        "\n",
        "    loss = criterion(y_logits, y_train)\n",
        "    train_losses[epoch] = loss.item()\n",
        "    acc = accuracy_fn(y_train,y_pred)\n",
        "    # Backpropagation\n",
        "\n",
        "    optimizer.zero_grad()\n",
        "    loss.backward()\n",
        "    optimizer.step()\n",
        "\n",
        "    model.eval()\n",
        "    with torch.inference_mode():\n",
        "    #Train loss\n",
        "      test_logits = model(X_test).squeeze()\n",
        "      test_pred = torch.round(torch.sigmoid(test_logits))\n",
        "\n",
        "      test_loss = criterion(test_logits, y_test)\n",
        "      test_acc = accuracy_fn(y_test,test_pred)\n",
        "\n",
        "      test_losses[epoch] = test_loss.item()\n",
        "\n",
        "      if epoch % 20 == 0:\n",
        "\n",
        "            print(f\"Epoch: {epoch} | Train Loss: {loss:5f} | Acc: {acc:5f}% | Test Loss:{test_loss:2f} | Test acc:{test_acc:2f}%\" )\n",
        "\n",
        "\n",
        "  return train_losses, test_losses"
      ],
      "metadata": {
        "id": "_FALZ4W2DnDs"
      },
      "execution_count": 15,
      "outputs": []
    },
    {
      "cell_type": "code",
      "source": [
        "model = MLPV0()\n",
        "# model.state_dict()\n",
        "untrained_preds = model(X_test)\n",
        "print(f\"length of predictions: {len(untrained_preds)}, Shape: {untrained_preds.shape}\")\n",
        "print(f\"length of test samples: {len(X_test)}, Shape: {X_test.shape}\")\n",
        "print(f\"\\nFirst 10 predictions:\\n{untrained_preds[:10]}\")\n",
        "print(f\"\\nFirst 10 labels:\\n{y_test[:10]}\")\n"
      ],
      "metadata": {
        "colab": {
          "base_uri": "https://localhost:8080/"
        },
        "id": "SMz9ZYZIPGHe",
        "outputId": "417d0978-fdf9-4fea-a683-e30ba67c4ddf"
      },
      "execution_count": 16,
      "outputs": [
        {
          "output_type": "stream",
          "name": "stdout",
          "text": [
            "length of predictions: 762, Shape: torch.Size([762, 1])\n",
            "length of test samples: 762, Shape: torch.Size([762, 7])\n",
            "\n",
            "First 10 predictions:\n",
            "tensor([[ 0.0033],\n",
            "        [ 0.0332],\n",
            "        [ 0.0151],\n",
            "        [-0.0638],\n",
            "        [-0.0101],\n",
            "        [-0.0539],\n",
            "        [ 0.0360],\n",
            "        [-0.0284],\n",
            "        [-0.0290],\n",
            "        [-0.0715]], grad_fn=<SliceBackward0>)\n",
            "\n",
            "First 10 labels:\n",
            "tensor([0., 1., 1., 0., 1., 0., 1., 0., 0., 0.])\n"
          ]
        }
      ]
    },
    {
      "cell_type": "code",
      "source": [
        "lr = 0.1\n",
        "epochs = 500\n",
        "train_losses, test_losses = train(model,\n",
        "                                  lr,\n",
        "                                  X_train,\n",
        "                                  y_train,\n",
        "                                  X_test,\n",
        "                                  y_test,\n",
        "                                  epochs)\n",
        "\n",
        "plt.plot(train_losses, label='train loss')\n",
        "plt.plot(test_losses, label='test loss')\n",
        "plt.xlabel('epoch no')\n",
        "plt.ylabel('loss')\n",
        "plt.legend()\n",
        "plt.savefig(\"erro.png\", dpi=300)\n",
        "plt.show()\n"
      ],
      "metadata": {
        "colab": {
          "base_uri": "https://localhost:8080/",
          "height": 883
        },
        "id": "JnV3wx0gEIYs",
        "outputId": "02607366-dec0-4211-9c54-fee5034b17ec"
      },
      "execution_count": 17,
      "outputs": [
        {
          "output_type": "stream",
          "name": "stdout",
          "text": [
            "Epoch: 0 | Train Loss: 0.684655 | Acc: 73.162730% | Test Loss:0.677511 | Test acc:82.283465%\n",
            "Epoch: 20 | Train Loss: 0.529646 | Acc: 87.696850% | Test Loss:0.529631 | Test acc:87.401575%\n",
            "Epoch: 40 | Train Loss: 0.333684 | Acc: 91.994751% | Test Loss:0.330737 | Test acc:92.519685%\n",
            "Epoch: 60 | Train Loss: 0.232648 | Acc: 92.125984% | Test Loss:0.225672 | Test acc:92.257218%\n",
            "Epoch: 80 | Train Loss: 0.203663 | Acc: 92.322835% | Test Loss:0.194012 | Test acc:92.257218%\n",
            "Epoch: 100 | Train Loss: 0.194363 | Acc: 92.519685% | Test Loss:0.183241 | Test acc:92.388451%\n",
            "Epoch: 120 | Train Loss: 0.190604 | Acc: 92.650919% | Test Loss:0.178807 | Test acc:92.519685%\n",
            "Epoch: 140 | Train Loss: 0.188815 | Acc: 92.814961% | Test Loss:0.176717 | Test acc:92.650919%\n",
            "Epoch: 160 | Train Loss: 0.187834 | Acc: 92.913386% | Test Loss:0.175652 | Test acc:92.650919%\n",
            "Epoch: 180 | Train Loss: 0.187240 | Acc: 92.979003% | Test Loss:0.175086 | Test acc:92.519685%\n",
            "Epoch: 200 | Train Loss: 0.186819 | Acc: 92.979003% | Test Loss:0.174778 | Test acc:92.650919%\n",
            "Epoch: 220 | Train Loss: 0.186499 | Acc: 92.880577% | Test Loss:0.174582 | Test acc:92.650919%\n",
            "Epoch: 240 | Train Loss: 0.186248 | Acc: 92.946194% | Test Loss:0.174437 | Test acc:92.650919%\n",
            "Epoch: 260 | Train Loss: 0.186041 | Acc: 92.979003% | Test Loss:0.174337 | Test acc:92.782152%\n",
            "Epoch: 280 | Train Loss: 0.185861 | Acc: 92.979003% | Test Loss:0.174258 | Test acc:92.782152%\n",
            "Epoch: 300 | Train Loss: 0.185703 | Acc: 93.044619% | Test Loss:0.174197 | Test acc:92.782152%\n",
            "Epoch: 320 | Train Loss: 0.185555 | Acc: 93.044619% | Test Loss:0.174139 | Test acc:92.782152%\n",
            "Epoch: 340 | Train Loss: 0.185420 | Acc: 93.044619% | Test Loss:0.174112 | Test acc:92.650919%\n",
            "Epoch: 360 | Train Loss: 0.185294 | Acc: 93.077428% | Test Loss:0.174091 | Test acc:92.650919%\n",
            "Epoch: 380 | Train Loss: 0.185180 | Acc: 93.077428% | Test Loss:0.174084 | Test acc:92.519685%\n",
            "Epoch: 400 | Train Loss: 0.185074 | Acc: 93.044619% | Test Loss:0.174067 | Test acc:92.650919%\n",
            "Epoch: 420 | Train Loss: 0.184976 | Acc: 93.077428% | Test Loss:0.174041 | Test acc:92.650919%\n",
            "Epoch: 440 | Train Loss: 0.184881 | Acc: 93.110236% | Test Loss:0.174019 | Test acc:92.650919%\n",
            "Epoch: 460 | Train Loss: 0.184790 | Acc: 93.077428% | Test Loss:0.173995 | Test acc:92.650919%\n",
            "Epoch: 480 | Train Loss: 0.184701 | Acc: 93.077428% | Test Loss:0.173974 | Test acc:92.650919%\n"
          ]
        },
        {
          "output_type": "display_data",
          "data": {
            "text/plain": [
              "<Figure size 640x480 with 1 Axes>"
            ],
            "image/png": "[encoded data removed]"
          },
          "metadata": {}
        }
      ]
    },
    {
      "cell_type": "code",
      "source": [
        "from sklearn.metrics import accuracy_score, precision_score, recall_score, f1_score\n",
        "\n",
        "y_pred = torch.round(torch.sigmoid(model(X_test).squeeze())).detach().numpy()\n",
        "y_true = y_test\n",
        "\n",
        "accuracy = accuracy_score(y_true, y_pred)\n",
        "precision = precision_score(y_true, y_pred, average='weighted')\n",
        "recall = recall_score(y_true, y_pred, average='weighted')\n",
        "f1 = f1_score(y_true, y_pred, average='weighted')\n",
        "\n",
        "print(f'Accuracy: {accuracy:.5f}')\n",
        "print(f'Precision: {precision:.5f}')\n",
        "print(f'Recall: {recall:.5f}')\n",
        "print(f'F1 Score: {f1:.5f}')"
      ],
      "metadata": {
        "colab": {
          "base_uri": "https://localhost:8080/"
        },
        "id": "MgKal4ijhiiz",
        "outputId": "05ca1b40-46ad-4e67-be05-4a338d194d69"
      },
      "execution_count": 19,
      "outputs": [
        {
          "output_type": "stream",
          "name": "stdout",
          "text": [
            "Accuracy: 0.92651\n",
            "Precision: 0.92655\n",
            "Recall: 0.92651\n",
            "F1 Score: 0.92652\n"
          ]
        }
      ]
    }
  ]
}